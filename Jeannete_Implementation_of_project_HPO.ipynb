{
  "nbformat": 4,
  "nbformat_minor": 0,
  "metadata": {
    "kernelspec": {
      "display_name": "Python 3",
      "language": "python",
      "name": "python3"
    },
    "language_info": {
      "codemirror_mode": {
        "name": "ipython",
        "version": 3
      },
      "file_extension": ".py",
      "mimetype": "text/x-python",
      "name": "python",
      "nbconvert_exporter": "python",
      "pygments_lexer": "ipython3",
      "version": "3.7.3"
    },
    "colab": {
      "name": "Jeannete_Implementation_of_project_HPO.ipynb",
      "provenance": []
    },
    "accelerator": "GPU"
  },
  "cells": [
    {
      "cell_type": "code",
      "metadata": {
        "colab": {
          "base_uri": "https://localhost:8080/",
          "height": 35
        },
        "id": "Glo24abpyIxi",
        "outputId": "58ca9998-1f9b-4b65-9c44-bd6c86deb8c8"
      },
      "source": [
        "import tensorflow as tf\n",
        "tf.test.gpu_device_name()"
      ],
      "execution_count": 1,
      "outputs": [
        {
          "output_type": "execute_result",
          "data": {
            "application/vnd.google.colaboratory.intrinsic+json": {
              "type": "string"
            },
            "text/plain": [
              "'/device:GPU:0'"
            ]
          },
          "metadata": {},
          "execution_count": 1
        }
      ]
    },
    {
      "cell_type": "code",
      "metadata": {
        "colab": {
          "base_uri": "https://localhost:8080/"
        },
        "id": "rZGk3EQhYJO2",
        "outputId": "bdeee210-6210-49d0-8f21-62a355d4e567"
      },
      "source": [
        "from tensorflow.python.client import device_lib\n",
        "device_lib.list_local_devices()"
      ],
      "execution_count": 2,
      "outputs": [
        {
          "output_type": "execute_result",
          "data": {
            "text/plain": [
              "[name: \"/device:CPU:0\"\n",
              " device_type: \"CPU\"\n",
              " memory_limit: 268435456\n",
              " locality {\n",
              " }\n",
              " incarnation: 7635894076536572147, name: \"/device:GPU:0\"\n",
              " device_type: \"GPU\"\n",
              " memory_limit: 14512029696\n",
              " locality {\n",
              "   bus_id: 1\n",
              "   links {\n",
              "   }\n",
              " }\n",
              " incarnation: 2623242514053357799\n",
              " physical_device_desc: \"device: 0, name: Tesla T4, pci bus id: 0000:00:04.0, compute capability: 7.5\"]"
            ]
          },
          "metadata": {},
          "execution_count": 2
        }
      ]
    },
    {
      "cell_type": "code",
      "metadata": {
        "colab": {
          "base_uri": "https://localhost:8080/"
        },
        "id": "O2nmT3NgYUtO",
        "outputId": "08937024-72ec-4ea8-bcca-28f410b91337"
      },
      "source": [
        "!cat /proc/meminfo"
      ],
      "execution_count": 3,
      "outputs": [
        {
          "output_type": "stream",
          "text": [
            "MemTotal:       13302924 kB\n",
            "MemFree:         9334132 kB\n",
            "MemAvailable:   12068096 kB\n",
            "Buffers:          128300 kB\n",
            "Cached:          2594608 kB\n",
            "SwapCached:            0 kB\n",
            "Active:          1304648 kB\n",
            "Inactive:        2276676 kB\n",
            "Active(anon):     666100 kB\n",
            "Inactive(anon):    10676 kB\n",
            "Active(file):     638548 kB\n",
            "Inactive(file):  2266000 kB\n",
            "Unevictable:           0 kB\n",
            "Mlocked:               0 kB\n",
            "SwapTotal:             0 kB\n",
            "SwapFree:              0 kB\n",
            "Dirty:               132 kB\n",
            "Writeback:             0 kB\n",
            "AnonPages:        858416 kB\n",
            "Mapped:           604128 kB\n",
            "Shmem:             11408 kB\n",
            "KReclaimable:     141780 kB\n",
            "Slab:             197588 kB\n",
            "SReclaimable:     141780 kB\n",
            "SUnreclaim:        55808 kB\n",
            "KernelStack:        4976 kB\n",
            "PageTables:         8544 kB\n",
            "NFS_Unstable:          0 kB\n",
            "Bounce:                0 kB\n",
            "WritebackTmp:          0 kB\n",
            "CommitLimit:     6651460 kB\n",
            "Committed_AS:    3671828 kB\n",
            "VmallocTotal:   34359738367 kB\n",
            "VmallocUsed:       51116 kB\n",
            "VmallocChunk:          0 kB\n",
            "Percpu:             1400 kB\n",
            "AnonHugePages:         0 kB\n",
            "ShmemHugePages:        0 kB\n",
            "ShmemPmdMapped:        0 kB\n",
            "FileHugePages:         0 kB\n",
            "FilePmdMapped:         0 kB\n",
            "CmaTotal:              0 kB\n",
            "CmaFree:               0 kB\n",
            "HugePages_Total:       0\n",
            "HugePages_Free:        0\n",
            "HugePages_Rsvd:        0\n",
            "HugePages_Surp:        0\n",
            "Hugepagesize:       2048 kB\n",
            "Hugetlb:               0 kB\n",
            "DirectMap4k:      203584 kB\n",
            "DirectMap2M:     6084608 kB\n",
            "DirectMap1G:     9437184 kB\n"
          ],
          "name": "stdout"
        }
      ]
    },
    {
      "cell_type": "markdown",
      "metadata": {
        "id": "Qp_gD6cVyIxk"
      },
      "source": [
        "# LOAD DATASET MNIST"
      ]
    },
    {
      "cell_type": "code",
      "metadata": {
        "id": "WdqtxKGuYTrP"
      },
      "source": [
        ""
      ],
      "execution_count": null,
      "outputs": []
    },
    {
      "cell_type": "code",
      "metadata": {
        "colab": {
          "base_uri": "https://localhost:8080/"
        },
        "id": "BiBWhQEwyIxl",
        "outputId": "eac388c3-45ef-4e06-a6d6-bd42b1ffac11"
      },
      "source": [
        "pip install python_mnist"
      ],
      "execution_count": 4,
      "outputs": [
        {
          "output_type": "stream",
          "text": [
            "Collecting python_mnist\n",
            "  Downloading python_mnist-0.7-py2.py3-none-any.whl (9.6 kB)\n",
            "Installing collected packages: python-mnist\n",
            "Successfully installed python-mnist-0.7\n"
          ],
          "name": "stdout"
        }
      ]
    },
    {
      "cell_type": "code",
      "metadata": {
        "id": "DiKJXFbuyIxm"
      },
      "source": [
        "from mnist import MNIST\n",
        "import numpy as np\n",
        "import pandas as pd\n",
        "import seaborn as sns\n",
        "import matplotlib.pyplot as plt\n",
        "from sklearn.model_selection import train_test_split\n",
        "from sklearn.metrics import confusion_matrix\n",
        "from sklearn.model_selection import validation_curve\n",
        "from sklearn.model_selection import KFold\n",
        "from sklearn.model_selection import cross_val_score\n",
        "from sklearn.model_selection import GridSearchCV\n",
        "from sklearn.model_selection import RepeatedStratifiedKFold\n",
        "from sklearn.datasets import fetch_openml\n",
        "from sklearn.ensemble import RandomForestClassifier,RandomForestRegressor\n",
        "from sklearn.metrics import classification_report,confusion_matrix,accuracy_score\n",
        "from sklearn.neighbors import KNeighborsClassifier,KNeighborsRegressor\n",
        "from sklearn.svm import SVC,SVR\n",
        "from sklearn import datasets\n",
        "import scipy.stats as stats\n",
        "from numpy import mean\n",
        "from numpy import std\n",
        "from skopt.space import Integer\n",
        "from skopt.space import Real\n",
        "from skopt.space import Categorical\n",
        "from skopt.utils import use_named_args\n",
        "from skopt import gp_minimize"
      ],
      "execution_count": 2,
      "outputs": []
    },
    {
      "cell_type": "code",
      "metadata": {
        "id": "ttMuKPo3zfqO"
      },
      "source": [
        "# from google.colab import drive\n",
        "# drive.mount('/content/drive')"
      ],
      "execution_count": 4,
      "outputs": []
    },
    {
      "cell_type": "code",
      "metadata": {
        "id": "35lJ_jkN1tQv"
      },
      "source": [
        "#! [ ! -z \"$COLAB_GPU\" ] && pip install torch scikit-learn==0.20.* skorch"
      ],
      "execution_count": null,
      "outputs": []
    },
    {
      "cell_type": "code",
      "metadata": {
        "id": "BPMX6lKd2AU0"
      },
      "source": [
        "mnist = fetch_openml('mnist_784', cache=False)"
      ],
      "execution_count": 4,
      "outputs": []
    },
    {
      "cell_type": "code",
      "metadata": {
        "colab": {
          "base_uri": "https://localhost:8080/"
        },
        "id": "R6ABs4Sl2eP3",
        "outputId": "8f963ba9-2593-42c1-9036-4b3f0a058f93"
      },
      "source": [
        "mnist.data.shape"
      ],
      "execution_count": 5,
      "outputs": [
        {
          "output_type": "execute_result",
          "data": {
            "text/plain": [
              "(70000, 784)"
            ]
          },
          "metadata": {},
          "execution_count": 5
        }
      ]
    },
    {
      "cell_type": "markdown",
      "metadata": {
        "id": "1FdrZtLy2sLv"
      },
      "source": [
        "Preprocessing Data\n",
        "Each image of the MNIST dataset is encoded in a 784 dimensional vector, representing a 28 x 28 pixel image. Each pixel has a value between 0 and 255, corresponding to the grey-value of a pixel.\n",
        "The above featch_mldata method to load MNIST returns data and target as uint8 which we convert to float32 and int64 respectively."
      ]
    },
    {
      "cell_type": "code",
      "metadata": {
        "id": "WZhtVELC2uIN"
      },
      "source": [
        "X = mnist.data.astype('float32')\n",
        "y = mnist.target.astype('int64')"
      ],
      "execution_count": 6,
      "outputs": []
    },
    {
      "cell_type": "markdown",
      "metadata": {
        "id": "Bt26Vjfq3MeU"
      },
      "source": [
        " To avoid big weights that deal with the pixel values from between [0, 255], we scale X down. A commonly used range is [0, 1]."
      ]
    },
    {
      "cell_type": "code",
      "metadata": {
        "id": "jbJJtqEq3a5U"
      },
      "source": [
        "X /= 255.0"
      ],
      "execution_count": 7,
      "outputs": []
    },
    {
      "cell_type": "code",
      "metadata": {
        "colab": {
          "base_uri": "https://localhost:8080/"
        },
        "id": "a_OhpG8I3kxV",
        "outputId": "1883dcf4-5c8a-4f83-9cbc-177cb417e3a3"
      },
      "source": [
        "X.min(), X.max()"
      ],
      "execution_count": 8,
      "outputs": [
        {
          "output_type": "execute_result",
          "data": {
            "text/plain": [
              "(0.0, 1.0)"
            ]
          },
          "metadata": {},
          "execution_count": 8
        }
      ]
    },
    {
      "cell_type": "code",
      "metadata": {
        "id": "ZiIxmfsY3m0V"
      },
      "source": [
        "X_train, X_test, y_train, y_test = train_test_split(X, y, test_size=0.1, random_state=42)"
      ],
      "execution_count": 9,
      "outputs": []
    },
    {
      "cell_type": "code",
      "metadata": {
        "id": "AJb43GX23m3F"
      },
      "source": [
        "assert(X_train.shape[0] + X_test.shape[0] == mnist.data.shape[0])"
      ],
      "execution_count": 10,
      "outputs": []
    },
    {
      "cell_type": "code",
      "metadata": {
        "colab": {
          "base_uri": "https://localhost:8080/"
        },
        "id": "HfRk5W5U3m51",
        "outputId": "dcb3ac9d-3742-4817-cd7b-10ef6c4609e4"
      },
      "source": [
        "X_train.shape, y_train.shape"
      ],
      "execution_count": 11,
      "outputs": [
        {
          "output_type": "execute_result",
          "data": {
            "text/plain": [
              "((63000, 784), (63000,))"
            ]
          },
          "metadata": {},
          "execution_count": 11
        }
      ]
    },
    {
      "cell_type": "code",
      "metadata": {
        "id": "LW5i2ZYo3m8h"
      },
      "source": [
        "def plot_example(X, y):\n",
        "    \"\"\"Plot the first 5 images and their labels in a row.\"\"\"\n",
        "    for i, (img, y) in enumerate(zip(X[:5].reshape(5, 28, 28), y[:5])):\n",
        "        plt.subplot(151 + i)\n",
        "        plt.imshow(img)\n",
        "        plt.xticks([])\n",
        "        plt.yticks([])\n",
        "        plt.title(y)"
      ],
      "execution_count": 12,
      "outputs": []
    },
    {
      "cell_type": "code",
      "metadata": {
        "colab": {
          "base_uri": "https://localhost:8080/",
          "height": 108
        },
        "id": "rvYFsTCK3m_V",
        "outputId": "7fd8694e-2c78-4b72-e455-a59553cd1fcc"
      },
      "source": [
        "plot_example(X_train, y_train)"
      ],
      "execution_count": 13,
      "outputs": [
        {
          "output_type": "display_data",
          "data": {
            "image/png": "[encoded data removed]",
            "text/plain": [
              "<Figure size 432x288 with 5 Axes>"
            ]
          },
          "metadata": {}
        }
      ]
    },
    {
      "cell_type": "code",
      "metadata": {
        "colab": {
          "base_uri": "https://localhost:8080/"
        },
        "id": "DbZvPbjI3ZLs",
        "outputId": "cedd3337-2ca0-4e07-e20d-9f96a9830b5c"
      },
      "source": [
        "X_test.shape, y_test.shape"
      ],
      "execution_count": 17,
      "outputs": [
        {
          "output_type": "execute_result",
          "data": {
            "text/plain": [
              "((7000, 784), (7000,))"
            ]
          },
          "metadata": {},
          "execution_count": 17
        }
      ]
    },
    {
      "cell_type": "code",
      "metadata": {
        "id": "7mVmId_vzdIQ"
      },
      "source": [
        ""
      ],
      "execution_count": 17,
      "outputs": []
    },
    {
      "cell_type": "code",
      "metadata": {
        "id": "8c47K96yyIxo"
      },
      "source": [
        "# pip install keras"
      ],
      "execution_count": 36,
      "outputs": []
    },
    {
      "cell_type": "code",
      "metadata": {
        "id": "I3FH-TtSyIxo"
      },
      "source": [
        "#mnist = datasets.load_digits()\n"
      ],
      "execution_count": 37,
      "outputs": []
    },
    {
      "cell_type": "code",
      "metadata": {
        "colab": {
          "base_uri": "https://localhost:8080/",
          "height": 146
        },
        "id": "NhuzlAWjyIxp",
        "outputId": "ab291c25-6a62-460b-f6ae-dcdf0bbd5a05"
      },
      "source": [
        "import matplotlib.pyplot as plt\n",
        "digit = X_train[0]\n",
        "digit_pixels = digit.reshape(28, 28)\n",
        "plt.subplot(131)\n",
        "plt.imshow(digit_pixels)\n",
        "plt.axis('off')\n",
        "\n"
      ],
      "execution_count": 18,
      "outputs": [
        {
          "output_type": "execute_result",
          "data": {
            "text/plain": [
              "(-0.5, 27.5, 27.5, -0.5)"
            ]
          },
          "metadata": {},
          "execution_count": 18
        },
        {
          "output_type": "display_data",
          "data": {
            "image/png": "[encoded data removed]",
            "text/plain": [
              "<Figure size 432x288 with 1 Axes>"
            ]
          },
          "metadata": {
            "needs_background": "light"
          }
        }
      ]
    },
    {
      "cell_type": "code",
      "metadata": {
        "colab": {
          "base_uri": "https://localhost:8080/",
          "height": 146
        },
        "id": "WeJniHl8yIxp",
        "outputId": "d0d6eb58-a7ec-4e26-e76d-a7841ed8ad0e"
      },
      "source": [
        "digit = X_train[1]\n",
        "digit_pixels = digit.reshape(28, 28)\n",
        "plt.subplot(132)\n",
        "plt.imshow(digit_pixels)\n",
        "plt.axis('off')\n"
      ],
      "execution_count": 19,
      "outputs": [
        {
          "output_type": "execute_result",
          "data": {
            "text/plain": [
              "(-0.5, 27.5, 27.5, -0.5)"
            ]
          },
          "metadata": {},
          "execution_count": 19
        },
        {
          "output_type": "display_data",
          "data": {
            "image/png": "[encoded data removed]",
            "text/plain": [
              "<Figure size 432x288 with 1 Axes>"
            ]
          },
          "metadata": {
            "needs_background": "light"
          }
        }
      ]
    },
    {
      "cell_type": "code",
      "metadata": {
        "colab": {
          "base_uri": "https://localhost:8080/",
          "height": 146
        },
        "id": "CPNxTRIeyIxp",
        "outputId": "8affa1c2-23de-44d4-ef64-5f56ff0179c8"
      },
      "source": [
        "digit = X_train[2]\n",
        "digit_pixels = digit.reshape(28, 28)\n",
        "plt.subplot(133)\n",
        "plt.imshow(digit_pixels)\n",
        "plt.axis('off')"
      ],
      "execution_count": 20,
      "outputs": [
        {
          "output_type": "execute_result",
          "data": {
            "text/plain": [
              "(-0.5, 27.5, 27.5, -0.5)"
            ]
          },
          "metadata": {},
          "execution_count": 20
        },
        {
          "output_type": "display_data",
          "data": {
            "image/png": "[encoded data removed]",
            "text/plain": [
              "<Figure size 432x288 with 1 Axes>"
            ]
          },
          "metadata": {
            "needs_background": "light"
          }
        }
      ]
    },
    {
      "cell_type": "code",
      "metadata": {
        "id": "jHwSrZpCRE5o"
      },
      "source": [
        ""
      ],
      "execution_count": null,
      "outputs": []
    },
    {
      "cell_type": "markdown",
      "metadata": {
        "id": "4PPpuYhCRGcJ"
      },
      "source": [
        "#Support vector Machine using default Hps\n",
        "\n",
        "\n"
      ]
    },
    {
      "cell_type": "code",
      "metadata": {
        "id": "Ga-JBY7fRFUK"
      },
      "source": [
        "clf = SVC( C=1.0, kernel='rbf', degree=3, gamma='scale', coef0=0.0)\n",
        "clf.fit(X,y)\n",
        "scores = cross_val_score(clf, X, y, cv=5,scoring='accuracy')\n",
        "print(\"Accuracy:\"+ str(scores.mean()))"
      ],
      "execution_count": null,
      "outputs": []
    },
    {
      "cell_type": "markdown",
      "metadata": {
        "id": "3aN42i26yIxq"
      },
      "source": [
        "# Support Vector Machine classifier manual tuning"
      ]
    },
    {
      "cell_type": "code",
      "metadata": {
        "id": "AnSdN1mmyIxq"
      },
      "source": [
        "#Import svm model\n",
        "from sklearn import svm\n",
        "\n",
        "#Create a svm Classifier\n",
        "clf = svm.SVC(kernel='linear') # Linear Kernel\n",
        "\n",
        "#Train the model using the training sets\n",
        "clf.fit(X_train, y_train)\n",
        "\n",
        "#Predict the response for test dataset\n",
        "y_pred = clf.predict(X_test)"
      ],
      "execution_count": null,
      "outputs": []
    },
    {
      "cell_type": "code",
      "metadata": {
        "colab": {
          "base_uri": "https://localhost:8080/"
        },
        "id": "xObbB8PGyIxq",
        "outputId": "6d2274e3-46a3-4067-903b-fd01658e0fda"
      },
      "source": [
        "#Import scikit-learn metrics module for accuracy calculation\n",
        "from sklearn import metrics\n",
        "\n",
        "# Model Accuracy: how often is the classifier correct?\n",
        "print(\"Accuracy:\",metrics.accuracy_score(y_test, y_pred))"
      ],
      "execution_count": 25,
      "outputs": [
        {
          "output_type": "stream",
          "text": [
            "Accuracy: 0.937\n"
          ],
          "name": "stdout"
        }
      ]
    },
    {
      "cell_type": "code",
      "metadata": {
        "id": "HNuW-XaJ8dnd"
      },
      "source": [
        ""
      ],
      "execution_count": null,
      "outputs": []
    },
    {
      "cell_type": "markdown",
      "metadata": {
        "id": "ps54r4SfHs1v"
      },
      "source": [
        "Manual TUNING HPs"
      ]
    },
    {
      "cell_type": "code",
      "metadata": {
        "id": "epkIRWhbJfsH"
      },
      "source": [
        "#  pip install scikit-optimize"
      ],
      "execution_count": null,
      "outputs": []
    },
    {
      "cell_type": "code",
      "metadata": {
        "colab": {
          "base_uri": "https://localhost:8080/"
        },
        "id": "gpyNeS6tJf27",
        "outputId": "d4a887b2-20e4-4dee-c1b9-d38a5de130b4"
      },
      "source": [
        "\n",
        "# # report scikit-optimize version number\n",
        "# import skopt\n",
        "# print('skopt %s' % skopt.__version__)"
      ],
      "execution_count": 14,
      "outputs": [
        {
          "output_type": "stream",
          "text": [
            "skopt 0.8.1\n"
          ],
          "name": "stdout"
        }
      ]
    },
    {
      "cell_type": "code",
      "metadata": {
        "id": "a60MVaL0OMzy"
      },
      "source": [
        "pip install scikit_learn"
      ],
      "execution_count": null,
      "outputs": []
    },
    {
      "cell_type": "code",
      "metadata": {
        "id": "Jg5GGSexOY_4"
      },
      "source": [
        "pip install \"scikit_learn==0.22.2.post1\""
      ],
      "execution_count": null,
      "outputs": []
    },
    {
      "cell_type": "code",
      "metadata": {
        "id": "ZktD5x1uEkja"
      },
      "source": [
        "\n",
        "# # define the space of hyperparameters to search\n",
        "# search_space = list()\n",
        "# search_space.append(Real(1e-6, 100.0, 'log-uniform', name='C'))\n",
        "# search_space.append(Categorical(['linear', 'poly', 'rbf', 'sigmoid'], name='kernel'))\n",
        "# search_space.append(Integer(1, 5, name='degree'))\n",
        "# search_space.append(Real(1e-6, 100.0, 'log-uniform', name='gamma'))\n"
      ],
      "execution_count": 19,
      "outputs": []
    },
    {
      "cell_type": "code",
      "metadata": {
        "id": "LGdo8eWhH1_5"
      },
      "source": [
        "# # define the function used to evaluate a given configuration\n",
        "# @use_named_args(search_space)\n",
        "# def evaluate_model(**params):\n",
        "# \t# configure the model with specific hyperparameters\n",
        "# \tmodel = SVC()\n",
        "# \tmodel.set_params(**params)\n",
        "# \t# define test harness\n",
        "# \tcv = RepeatedStratifiedKFold(n_splits=10, n_repeats=3, random_state=1)\n",
        "# \t# calculate 5-fold cross validation\n",
        "# \tresult = cross_val_score(model, X, y, cv=cv, n_jobs=-1, scoring='accuracy')\n",
        "# \t# calculate the mean of the scores\n",
        "# \testimate = mean(result)\n",
        "# \t# convert from a maximizing score to a minimizing score\n",
        "# \treturn 1.0 - estimate"
      ],
      "execution_count": 20,
      "outputs": []
    },
    {
      "cell_type": "code",
      "metadata": {
        "id": "fALRfVt6YmDe"
      },
      "source": [
        "# # perform optimization\n",
        "# result = gp_minimize(evaluate_model, search_space)\n",
        "# # summarizing finding:\n",
        "# print('Best Accuracy: %.3f' % (1.0 - result.fun))\n",
        "# print('Best Parameters: %s' % (result.x))"
      ],
      "execution_count": null,
      "outputs": []
    },
    {
      "cell_type": "markdown",
      "metadata": {
        "id": "mbGFJsbZljcc"
      },
      "source": [
        "#Hyperparameters optimization"
      ]
    },
    {
      "cell_type": "code",
      "metadata": {
        "id": "K5YGo5iVY7CG"
      },
      "source": [
        "# example of grid searching key hyperparametres for SVC\n",
        "# define model and parameters\n",
        "model = SVC()\n",
        "kernel = ['poly', 'rbf', 'sigmoid']\n",
        "C = [50, 10, 1.0, 0.1, 0.01]\n",
        "gamma = ['scale']\n",
        "# define grid search\n",
        "grid = dict(kernel=kernel,C=C,gamma=gamma)\n",
        "cv = RepeatedStratifiedKFold(n_splits=10, n_repeats=3, random_state=1)\n",
        "grid_search = GridSearchCV(estimator=model, param_grid=grid, n_jobs=-1, cv=cv, scoring='accuracy',error_score=0)\n",
        "grid_result = grid_search.fit(X, y)\n",
        "# summarize results\n",
        "print(\"Best: %f using %s\" % (grid_result.best_score_, grid_result.best_params_))\n",
        "\n"
      ],
      "execution_count": null,
      "outputs": []
    },
    {
      "cell_type": "code",
      "metadata": {
        "id": "swot-0gq-jRw"
      },
      "source": [
        "# means = grid_result.cv_results_['mean_test_score']\n",
        "# stds = grid_result.cv_results_['std_test_score']\n",
        "# params = grid_result.cv_results_['params']\n",
        "# for mean, stdev, param in zip(means, stds, params):\n",
        "#     print(\"%f (%f) with: %r\" % (mean, stdev, param))"
      ],
      "execution_count": null,
      "outputs": []
    }
  ]
}
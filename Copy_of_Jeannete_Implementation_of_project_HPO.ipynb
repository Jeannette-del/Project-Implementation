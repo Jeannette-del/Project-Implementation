{
  "nbformat": 4,
  "nbformat_minor": 0,
  "metadata": {
    "kernelspec": {
      "display_name": "Python 3",
      "language": "python",
      "name": "python3"
    },
    "language_info": {
      "codemirror_mode": {
        "name": "ipython",
        "version": 3
      },
      "file_extension": ".py",
      "mimetype": "text/x-python",
      "name": "python",
      "nbconvert_exporter": "python",
      "pygments_lexer": "ipython3",
      "version": "3.7.3"
    },
    "colab": {
      "name": "Copy of Jeannete_Implementation_of_project_HPO.ipynb",
      "provenance": [],
      "collapsed_sections": [],
      "include_colab_link": true
    }
  },
  "cells": [
    {
      "cell_type": "markdown",
      "metadata": {
        "id": "view-in-github",
        "colab_type": "text"
      },
      "source": [
        "<a href=\"https://colab.research.google.com/github/Jeannette-del/Project-Implementation/blob/main/Copy_of_Jeannete_Implementation_of_project_HPO.ipynb\" target=\"_parent\"><img src=\"https://colab.research.google.com/assets/colab-badge.svg\" alt=\"Open In Colab\"/></a>"
      ]
    },
    {
      "cell_type": "code",
      "metadata": {
        "colab": {
          "base_uri": "https://localhost:8080/",
          "height": 35
        },
        "id": "Glo24abpyIxi",
        "outputId": "1133e793-0920-4e7c-f5f4-ff24f39a11e9"
      },
      "source": [
        "import tensorflow as tf\n",
        "tf.test.gpu_device_name()"
      ],
      "execution_count": null,
      "outputs": [
        {
          "output_type": "execute_result",
          "data": {
            "application/vnd.google.colaboratory.intrinsic+json": {
              "type": "string"
            },
            "text/plain": [
              "''"
            ]
          },
          "metadata": {},
          "execution_count": 1
        }
      ]
    },
    {
      "cell_type": "code",
      "metadata": {
        "colab": {
          "base_uri": "https://localhost:8080/"
        },
        "id": "rZGk3EQhYJO2",
        "outputId": "cfdce5ad-828b-4acf-e7a2-12a462dfef5a"
      },
      "source": [
        "from tensorflow.python.client import device_lib\n",
        "device_lib.list_local_devices()"
      ],
      "execution_count": null,
      "outputs": [
        {
          "output_type": "execute_result",
          "data": {
            "text/plain": [
              "[name: \"/device:CPU:0\"\n",
              " device_type: \"CPU\"\n",
              " memory_limit: 268435456\n",
              " locality {\n",
              " }\n",
              " incarnation: 18316034838430988270]"
            ]
          },
          "metadata": {},
          "execution_count": 2
        }
      ]
    },
    {
      "cell_type": "code",
      "metadata": {
        "colab": {
          "base_uri": "https://localhost:8080/"
        },
        "id": "O2nmT3NgYUtO",
        "outputId": "a6581b93-3684-48bd-c6b0-32d76f62d963"
      },
      "source": [
        "!cat /proc/meminfo"
      ],
      "execution_count": null,
      "outputs": [
        {
          "output_type": "stream",
          "text": [
            "MemTotal:       13302920 kB\n",
            "MemFree:        10454344 kB\n",
            "MemAvailable:   12395312 kB\n",
            "Buffers:          122276 kB\n",
            "Cached:          1952824 kB\n",
            "SwapCached:            0 kB\n",
            "Active:          1108272 kB\n",
            "Inactive:        1493904 kB\n",
            "Active(anon):     489664 kB\n",
            "Inactive(anon):      428 kB\n",
            "Active(file):     618608 kB\n",
            "Inactive(file):  1493476 kB\n",
            "Unevictable:           0 kB\n",
            "Mlocked:               0 kB\n",
            "SwapTotal:             0 kB\n",
            "SwapFree:              0 kB\n",
            "Dirty:             15648 kB\n",
            "Writeback:             0 kB\n",
            "AnonPages:        527064 kB\n",
            "Mapped:           380448 kB\n",
            "Shmem:              1148 kB\n",
            "KReclaimable:     140928 kB\n",
            "Slab:             185116 kB\n",
            "SReclaimable:     140928 kB\n",
            "SUnreclaim:        44188 kB\n",
            "KernelStack:        4800 kB\n",
            "PageTables:         6784 kB\n",
            "NFS_Unstable:          0 kB\n",
            "Bounce:                0 kB\n",
            "WritebackTmp:          0 kB\n",
            "CommitLimit:     6651460 kB\n",
            "Committed_AS:    3230548 kB\n",
            "VmallocTotal:   34359738367 kB\n",
            "VmallocUsed:        7188 kB\n",
            "VmallocChunk:          0 kB\n",
            "Percpu:             1400 kB\n",
            "AnonHugePages:         0 kB\n",
            "ShmemHugePages:        0 kB\n",
            "ShmemPmdMapped:        0 kB\n",
            "FileHugePages:         0 kB\n",
            "FilePmdMapped:         0 kB\n",
            "CmaTotal:              0 kB\n",
            "CmaFree:               0 kB\n",
            "HugePages_Total:       0\n",
            "HugePages_Free:        0\n",
            "HugePages_Rsvd:        0\n",
            "HugePages_Surp:        0\n",
            "Hugepagesize:       2048 kB\n",
            "Hugetlb:               0 kB\n",
            "DirectMap4k:       90944 kB\n",
            "DirectMap2M:     4100096 kB\n",
            "DirectMap1G:    11534336 kB\n"
          ],
          "name": "stdout"
        }
      ]
    },
    {
      "cell_type": "markdown",
      "metadata": {
        "id": "Qp_gD6cVyIxk"
      },
      "source": [
        "# LOAD DATASET MNIST"
      ]
    },
    {
      "cell_type": "code",
      "metadata": {
        "id": "WdqtxKGuYTrP"
      },
      "source": [
        ""
      ],
      "execution_count": null,
      "outputs": []
    },
    {
      "cell_type": "code",
      "metadata": {
        "colab": {
          "base_uri": "https://localhost:8080/"
        },
        "id": "BiBWhQEwyIxl",
        "outputId": "ef8da7c0-b2fa-4a4a-9e0d-c4e6207102d4"
      },
      "source": [
        "pip install python_mnist"
      ],
      "execution_count": null,
      "outputs": [
        {
          "output_type": "stream",
          "text": [
            "Collecting python_mnist\n",
            "  Downloading python_mnist-0.7-py2.py3-none-any.whl (9.6 kB)\n",
            "Installing collected packages: python-mnist\n",
            "Successfully installed python-mnist-0.7\n"
          ],
          "name": "stdout"
        }
      ]
    },
    {
      "cell_type": "code",
      "metadata": {
        "colab": {
          "base_uri": "https://localhost:8080/"
        },
        "id": "3cme_YL4Qn-T",
        "outputId": "74971a91-9847-4597-8714-cc61bb05bb9e"
      },
      "source": [
        " pip install scikit-optimize"
      ],
      "execution_count": null,
      "outputs": [
        {
          "output_type": "stream",
          "text": [
            "Collecting scikit-optimize\n",
            "  Downloading scikit_optimize-0.8.1-py2.py3-none-any.whl (101 kB)\n",
            "\u001b[?25l\r\u001b[K     |███▎                            | 10 kB 24.4 MB/s eta 0:00:01\r\u001b[K     |██████▌                         | 20 kB 28.3 MB/s eta 0:00:01\r\u001b[K     |█████████▊                      | 30 kB 31.0 MB/s eta 0:00:01\r\u001b[K     |█████████████                   | 40 kB 32.0 MB/s eta 0:00:01\r\u001b[K     |████████████████▏               | 51 kB 32.5 MB/s eta 0:00:01\r\u001b[K     |███████████████████▍            | 61 kB 35.1 MB/s eta 0:00:01\r\u001b[K     |██████████████████████▊         | 71 kB 34.0 MB/s eta 0:00:01\r\u001b[K     |██████████████████████████      | 81 kB 35.5 MB/s eta 0:00:01\r\u001b[K     |█████████████████████████████▏  | 92 kB 37.4 MB/s eta 0:00:01\r\u001b[K     |████████████████████████████████| 101 kB 9.1 MB/s \n",
            "\u001b[?25hRequirement already satisfied: numpy>=1.13.3 in /usr/local/lib/python3.7/dist-packages (from scikit-optimize) (1.19.5)\n",
            "Requirement already satisfied: scipy>=0.19.1 in /usr/local/lib/python3.7/dist-packages (from scikit-optimize) (1.4.1)\n",
            "Collecting pyaml>=16.9\n",
            "  Downloading pyaml-21.8.3-py2.py3-none-any.whl (17 kB)\n",
            "Requirement already satisfied: scikit-learn>=0.20.0 in /usr/local/lib/python3.7/dist-packages (from scikit-optimize) (0.22.2.post1)\n",
            "Requirement already satisfied: joblib>=0.11 in /usr/local/lib/python3.7/dist-packages (from scikit-optimize) (1.0.1)\n",
            "Requirement already satisfied: PyYAML in /usr/local/lib/python3.7/dist-packages (from pyaml>=16.9->scikit-optimize) (3.13)\n",
            "Installing collected packages: pyaml, scikit-optimize\n",
            "Successfully installed pyaml-21.8.3 scikit-optimize-0.8.1\n"
          ],
          "name": "stdout"
        }
      ]
    },
    {
      "cell_type": "code",
      "metadata": {
        "id": "DiKJXFbuyIxm",
        "colab": {
          "base_uri": "https://localhost:8080/"
        },
        "outputId": "eed797a9-d51c-4548-e423-3e269912f083"
      },
      "source": [
        "from mnist import MNIST\n",
        "import numpy as np\n",
        "import pandas as pd\n",
        "import seaborn as sns\n",
        "import matplotlib.pyplot as plt\n",
        "from sklearn.model_selection import train_test_split\n",
        "from sklearn.metrics import confusion_matrix\n",
        "from sklearn.model_selection import validation_curve\n",
        "from sklearn.model_selection import KFold\n",
        "from sklearn.model_selection import cross_val_score\n",
        "from sklearn.model_selection import GridSearchCV\n",
        "from sklearn.model_selection import RepeatedStratifiedKFold#\n",
        "from sklearn.datasets import fetch_openml\n",
        "from sklearn.ensemble import RandomForestClassifier,RandomForestRegressor\n",
        "from sklearn.metrics import classification_report,confusion_matrix,accuracy_score\n",
        "from sklearn.neighbors import KNeighborsClassifier,KNeighborsRegressor\n",
        "from sklearn.linear_model import LogisticRegression\n",
        "from sklearn.linear_model.sag import sag_solver\n",
        "from sklearn.svm import SVC,SVR\n",
        "from sklearn import datasets\n",
        "import scipy.stats as stats\n",
        "from numpy import mean\n",
        "from numpy import std\n",
        "import skopt\n",
        "from skopt.space import Integer\n",
        "from skopt.space import Real\n",
        "from skopt.space import Categorical\n",
        "from skopt.utils import use_named_args\n",
        "from skopt import gp_minimize\n",
        "import warnings\n",
        "warnings.filterwarnings(\"ignore\")"
      ],
      "execution_count": null,
      "outputs": [
        {
          "output_type": "stream",
          "text": [
            "/usr/local/lib/python3.7/dist-packages/sklearn/utils/deprecation.py:144: FutureWarning: The sklearn.linear_model.sag module is  deprecated in version 0.22 and will be removed in version 0.24. The corresponding classes / functions should instead be imported from sklearn.linear_model. Anything that cannot be imported from sklearn.linear_model is now part of the private API.\n",
            "  warnings.warn(message, FutureWarning)\n"
          ],
          "name": "stderr"
        }
      ]
    },
    {
      "cell_type": "code",
      "metadata": {
        "id": "ttMuKPo3zfqO"
      },
      "source": [
        "# from google.colab import drive\n",
        "# drive.mount('/content/drive')"
      ],
      "execution_count": null,
      "outputs": []
    },
    {
      "cell_type": "code",
      "metadata": {
        "id": "35lJ_jkN1tQv"
      },
      "source": [
        "#! [ ! -z \"$COLAB_GPU\" ] && pip install torch scikit-learn==0.20.* skorch"
      ],
      "execution_count": null,
      "outputs": []
    },
    {
      "cell_type": "code",
      "metadata": {
        "id": "BPMX6lKd2AU0"
      },
      "source": [
        "# mnist = fetch_openml('mnist_784', cache=False)"
      ],
      "execution_count": null,
      "outputs": []
    },
    {
      "cell_type": "code",
      "metadata": {
        "id": "R6ABs4Sl2eP3"
      },
      "source": [
        "# mnist.data.shape"
      ],
      "execution_count": null,
      "outputs": []
    },
    {
      "cell_type": "markdown",
      "metadata": {
        "id": "1FdrZtLy2sLv"
      },
      "source": [
        "Preprocessing Data\n",
        "Each image of the MNIST dataset is encoded in a 784 dimensional vector, representing a 28 x 28 pixel image. Each pixel has a value between 0 and 255, corresponding to the grey-value of a pixel.\n",
        "The above featch_mldata method to load MNIST returns data and target as uint8 which we convert to float32 and int64 respectively."
      ]
    },
    {
      "cell_type": "code",
      "metadata": {
        "id": "WZhtVELC2uIN"
      },
      "source": [
        "# X = mnist.data.astype('float32')\n",
        "# y = mnist.target.astype('int64')"
      ],
      "execution_count": null,
      "outputs": []
    },
    {
      "cell_type": "markdown",
      "metadata": {
        "id": "Bt26Vjfq3MeU"
      },
      "source": [
        " To avoid big weights that deal with the pixel values from between [0, 255], we scale X down. A commonly used range is [0, 1]."
      ]
    },
    {
      "cell_type": "code",
      "metadata": {
        "id": "jbJJtqEq3a5U"
      },
      "source": [
        "# X /= 255.0"
      ],
      "execution_count": null,
      "outputs": []
    },
    {
      "cell_type": "code",
      "metadata": {
        "id": "a_OhpG8I3kxV"
      },
      "source": [
        "# X.min(), X.max()"
      ],
      "execution_count": null,
      "outputs": []
    },
    {
      "cell_type": "code",
      "metadata": {
        "id": "ZiIxmfsY3m0V"
      },
      "source": [
        "# X_train, X_test, y_train, y_test = train_test_split(X, y, test_size=0.1, random_state=42)"
      ],
      "execution_count": null,
      "outputs": []
    },
    {
      "cell_type": "code",
      "metadata": {
        "id": "AJb43GX23m3F"
      },
      "source": [
        "# assert(X_train.shape[0] + X_test.shape[0] == mnist.data.shape[0])"
      ],
      "execution_count": null,
      "outputs": []
    },
    {
      "cell_type": "code",
      "metadata": {
        "id": "HfRk5W5U3m51"
      },
      "source": [
        "# X_train.shape, y_train.shape"
      ],
      "execution_count": null,
      "outputs": []
    },
    {
      "cell_type": "code",
      "metadata": {
        "id": "LW5i2ZYo3m8h"
      },
      "source": [
        "# def plot_example(X, y):\n",
        "#     \"\"\"Plot the first 5 images and their labels in a row.\"\"\"\n",
        "#     for i, (img, y) in enumerate(zip(X[:5].reshape(5, 28, 28), y[:5])):\n",
        "#         plt.subplot(151 + i)\n",
        "#         plt.imshow(img)\n",
        "#         plt.xticks([])\n",
        "#         plt.yticks([])\n",
        "#         plt.title(y)"
      ],
      "execution_count": null,
      "outputs": []
    },
    {
      "cell_type": "code",
      "metadata": {
        "id": "rvYFsTCK3m_V"
      },
      "source": [
        "# plot_example(X_train, y_train)"
      ],
      "execution_count": null,
      "outputs": []
    },
    {
      "cell_type": "code",
      "metadata": {
        "id": "DbZvPbjI3ZLs"
      },
      "source": [
        "# X_test.shape, y_test.shape"
      ],
      "execution_count": null,
      "outputs": []
    },
    {
      "cell_type": "code",
      "metadata": {
        "id": "7mVmId_vzdIQ"
      },
      "source": [
        ""
      ],
      "execution_count": null,
      "outputs": []
    },
    {
      "cell_type": "code",
      "metadata": {
        "id": "8c47K96yyIxo"
      },
      "source": [
        "# pip install keras"
      ],
      "execution_count": null,
      "outputs": []
    },
    {
      "cell_type": "code",
      "metadata": {
        "id": "I3FH-TtSyIxo"
      },
      "source": [
        "#mnist = datasets.load_digits()\n"
      ],
      "execution_count": null,
      "outputs": []
    },
    {
      "cell_type": "code",
      "metadata": {
        "id": "NhuzlAWjyIxp"
      },
      "source": [
        "# import matplotlib.pyplot as plt\n",
        "# digit = X_train[0]\n",
        "# digit_pixels = digit.reshape(28, 28)\n",
        "# plt.subplot(131)\n",
        "# plt.imshow(digit_pixels)\n",
        "# plt.axis('off')\n",
        "\n"
      ],
      "execution_count": null,
      "outputs": []
    },
    {
      "cell_type": "code",
      "metadata": {
        "id": "WeJniHl8yIxp"
      },
      "source": [
        "# digit = X_train[1]\n",
        "# digit_pixels = digit.reshape(28, 28)\n",
        "# plt.subplot(132)\n",
        "# plt.imshow(digit_pixels)\n",
        "# plt.axis('off')\n"
      ],
      "execution_count": null,
      "outputs": []
    },
    {
      "cell_type": "code",
      "metadata": {
        "id": "CPNxTRIeyIxp"
      },
      "source": [
        "# digit = X_train[2]\n",
        "# digit_pixels = digit.reshape(28, 28)\n",
        "# plt.subplot(133)\n",
        "# plt.imshow(digit_pixels)\n",
        "# plt.axis('off')"
      ],
      "execution_count": null,
      "outputs": []
    },
    {
      "cell_type": "code",
      "metadata": {
        "id": "jHwSrZpCRE5o"
      },
      "source": [
        ""
      ],
      "execution_count": null,
      "outputs": []
    },
    {
      "cell_type": "markdown",
      "metadata": {
        "id": "4PPpuYhCRGcJ"
      },
      "source": [
        "#Support vector Machine using default Hps\n",
        "\n",
        "\n"
      ]
    },
    {
      "cell_type": "code",
      "metadata": {
        "id": "Ga-JBY7fRFUK"
      },
      "source": [
        "# clf = SVC( C=1.0, kernel='rbf', degree=3, gamma='scale', coef0=0.0)\n",
        "# clf.fit(X,y)\n",
        "# scores = cross_val_score(clf, X, y, cv=5,scoring='accuracy')\n",
        "# print(\"Accuracy:\"+ str(scores.mean()))"
      ],
      "execution_count": null,
      "outputs": []
    },
    {
      "cell_type": "markdown",
      "metadata": {
        "id": "3aN42i26yIxq"
      },
      "source": [
        "# Support Vector Machine classifier manual tuning"
      ]
    },
    {
      "cell_type": "code",
      "metadata": {
        "id": "AnSdN1mmyIxq"
      },
      "source": [
        "# #Import svm model\n",
        "# from sklearn import svm\n",
        "\n",
        "# #Create a svm Classifier\n",
        "# clf = svm.SVC(kernel='linear') # Linear Kernel\n",
        "\n",
        "# #Train the model using the training sets\n",
        "# clf.fit(X_train, y_train)\n",
        "\n",
        "# #Predict the response for test dataset\n",
        "# y_pred = clf.predict(X_test)"
      ],
      "execution_count": null,
      "outputs": []
    },
    {
      "cell_type": "code",
      "metadata": {
        "id": "xObbB8PGyIxq"
      },
      "source": [
        "# #Import scikit-learn metrics module for accuracy calculation\n",
        "# from sklearn import metrics\n",
        "\n",
        "# # Model Accuracy: how often is the classifier correct?\n",
        "# print(\"Accuracy:\",metrics.accuracy_score(y_test, y_pred))"
      ],
      "execution_count": null,
      "outputs": []
    },
    {
      "cell_type": "code",
      "metadata": {
        "id": "HNuW-XaJ8dnd"
      },
      "source": [
        ""
      ],
      "execution_count": null,
      "outputs": []
    },
    {
      "cell_type": "markdown",
      "metadata": {
        "id": "ps54r4SfHs1v"
      },
      "source": [
        "Manual TUNING HPs"
      ]
    },
    {
      "cell_type": "code",
      "metadata": {
        "colab": {
          "base_uri": "https://localhost:8080/"
        },
        "id": "epkIRWhbJfsH",
        "outputId": "bf638b53-cb03-493f-816c-cbb02dc84434"
      },
      "source": [
        "  pip install scikit-optimize"
      ],
      "execution_count": null,
      "outputs": [
        {
          "output_type": "stream",
          "text": [
            "Requirement already satisfied: scikit-optimize in /usr/local/lib/python3.7/dist-packages (0.8.1)\n",
            "Requirement already satisfied: scipy>=0.19.1 in /usr/local/lib/python3.7/dist-packages (from scikit-optimize) (1.4.1)\n",
            "Requirement already satisfied: pyaml>=16.9 in /usr/local/lib/python3.7/dist-packages (from scikit-optimize) (21.8.3)\n",
            "Requirement already satisfied: joblib>=0.11 in /usr/local/lib/python3.7/dist-packages (from scikit-optimize) (1.0.1)\n",
            "Requirement already satisfied: scikit-learn>=0.20.0 in /usr/local/lib/python3.7/dist-packages (from scikit-optimize) (0.22.2.post1)\n",
            "Requirement already satisfied: numpy>=1.13.3 in /usr/local/lib/python3.7/dist-packages (from scikit-optimize) (1.19.5)\n",
            "Requirement already satisfied: PyYAML in /usr/local/lib/python3.7/dist-packages (from pyaml>=16.9->scikit-optimize) (3.13)\n"
          ],
          "name": "stdout"
        }
      ]
    },
    {
      "cell_type": "code",
      "metadata": {
        "colab": {
          "base_uri": "https://localhost:8080/"
        },
        "id": "gpyNeS6tJf27",
        "outputId": "ce0696a6-7857-41d7-befe-573d79d8c985"
      },
      "source": [
        "\n",
        "# # report scikit-optimize version number\n",
        "import skopt\n",
        "print('skopt %s' % skopt.__version__)"
      ],
      "execution_count": null,
      "outputs": [
        {
          "output_type": "stream",
          "text": [
            "skopt 0.8.1\n"
          ],
          "name": "stdout"
        }
      ]
    },
    {
      "cell_type": "code",
      "metadata": {
        "colab": {
          "base_uri": "https://localhost:8080/"
        },
        "id": "a60MVaL0OMzy",
        "outputId": "4b0913a9-aacf-412f-d5b2-229b9c4f5e81"
      },
      "source": [
        "pip install scikit_learn"
      ],
      "execution_count": null,
      "outputs": [
        {
          "output_type": "stream",
          "text": [
            "Requirement already satisfied: scikit_learn in /usr/local/lib/python3.7/dist-packages (0.22.2.post1)\n",
            "Requirement already satisfied: scipy>=0.17.0 in /usr/local/lib/python3.7/dist-packages (from scikit_learn) (1.4.1)\n",
            "Requirement already satisfied: numpy>=1.11.0 in /usr/local/lib/python3.7/dist-packages (from scikit_learn) (1.19.5)\n",
            "Requirement already satisfied: joblib>=0.11 in /usr/local/lib/python3.7/dist-packages (from scikit_learn) (1.0.1)\n"
          ],
          "name": "stdout"
        }
      ]
    },
    {
      "cell_type": "code",
      "metadata": {
        "colab": {
          "base_uri": "https://localhost:8080/"
        },
        "id": "Jg5GGSexOY_4",
        "outputId": "ff006936-ffdb-4c7e-8a60-9dfd1959db8a"
      },
      "source": [
        "pip install \"scikit_learn==0.22.2.post1\""
      ],
      "execution_count": null,
      "outputs": [
        {
          "output_type": "stream",
          "text": [
            "Requirement already satisfied: scikit_learn==0.22.2.post1 in /usr/local/lib/python3.7/dist-packages (0.22.2.post1)\n",
            "Requirement already satisfied: joblib>=0.11 in /usr/local/lib/python3.7/dist-packages (from scikit_learn==0.22.2.post1) (1.0.1)\n",
            "Requirement already satisfied: scipy>=0.17.0 in /usr/local/lib/python3.7/dist-packages (from scikit_learn==0.22.2.post1) (1.4.1)\n",
            "Requirement already satisfied: numpy>=1.11.0 in /usr/local/lib/python3.7/dist-packages (from scikit_learn==0.22.2.post1) (1.19.5)\n"
          ],
          "name": "stdout"
        }
      ]
    },
    {
      "cell_type": "code",
      "metadata": {
        "id": "ZktD5x1uEkja"
      },
      "source": [
        "\n",
        "# # define the space of hyperparameters to search\n",
        "# search_space = list()\n",
        "# search_space.append(Real(1e-6, 100.0, 'log-uniform', name='C'))\n",
        "# search_space.append(Categorical(['linear', 'poly', 'rbf', 'sigmoid'], name='kernel'))\n",
        "# search_space.append(Integer(1, 5, name='degree'))\n",
        "# search_space.append(Real(1e-6, 100.0, 'log-uniform', name='gamma'))\n"
      ],
      "execution_count": null,
      "outputs": []
    },
    {
      "cell_type": "code",
      "metadata": {
        "id": "LGdo8eWhH1_5"
      },
      "source": [
        "# # define the function used to evaluate a given configuration\n",
        "# @use_named_args(search_space)\n",
        "# def evaluate_model(**params):\n",
        "# \t# configure the model with specific hyperparameters\n",
        "# \tmodel = SVC()\n",
        "# \tmodel.set_params(**params)\n",
        "# \t# define test harness\n",
        "# \tcv = RepeatedStratifiedKFold(n_splits=10, n_repeats=3, random_state=1)\n",
        "# \t# calculate 5-fold cross validation\n",
        "# \tresult = cross_val_score(model, X, y, cv=cv, n_jobs=-1, scoring='accuracy')\n",
        "# \t# calculate the mean of the scores\n",
        "# \testimate = mean(result)\n",
        "# \t# convert from a maximizing score to a minimizing score\n",
        "# \treturn 1.0 - estimate"
      ],
      "execution_count": null,
      "outputs": []
    },
    {
      "cell_type": "code",
      "metadata": {
        "id": "fALRfVt6YmDe"
      },
      "source": [
        "# # perform optimization\n",
        "# result = gp_minimize(evaluate_model, search_space)\n",
        "# # summarizing finding:\n",
        "# print('Best Accuracy: %.3f' % (1.0 - result.fun))\n",
        "# print('Best Parameters: %s' % (result.x))"
      ],
      "execution_count": null,
      "outputs": []
    },
    {
      "cell_type": "markdown",
      "metadata": {
        "id": "mbGFJsbZljcc"
      },
      "source": [
        "#Hyperparameters optimization"
      ]
    },
    {
      "cell_type": "code",
      "metadata": {
        "id": "K5YGo5iVY7CG"
      },
      "source": [
        "# # example of grid searching key hyperparametres for SVC\n",
        "# # define model and parameters\n",
        "# model = SVC()\n",
        "# kernel = ['poly', 'rbf', 'sigmoid']\n",
        "# C = [50, 10, 1.0, 0.1, 0.01]\n",
        "# gamma = ['scale']\n",
        "# # define grid search\n",
        "# grid = dict(kernel=kernel,C=C,gamma=gamma)\n",
        "# cv = RepeatedStratifiedKFold(n_splits=10, n_repeats=3, random_state=1)\n",
        "# grid_search = GridSearchCV(estimator=model, param_grid=grid, n_jobs=-1, cv=cv, scoring='accuracy',error_score=0)\n",
        "# grid_result = grid_search.fit(X, y)\n",
        "# # summarize results\n",
        "# print(\"Best: %f using %s\" % (grid_result.best_score_, grid_result.best_params_))\n",
        "\n"
      ],
      "execution_count": null,
      "outputs": []
    },
    {
      "cell_type": "code",
      "metadata": {
        "id": "swot-0gq-jRw"
      },
      "source": [
        "# means = grid_result.cv_results_['mean_test_score']\n",
        "# stds = grid_result.cv_results_['std_test_score']\n",
        "# params = grid_result.cv_results_['params']\n",
        "# for mean, stdev, param in zip(means, stds, params):\n",
        "#     print(\"%f (%f) with: %r\" % (mean, stdev, param))"
      ],
      "execution_count": null,
      "outputs": []
    },
    {
      "cell_type": "code",
      "metadata": {
        "id": "Uqjn0VolXYhi"
      },
      "source": [
        "#Import scikit-learn dataset library\n",
        "from sklearn import datasets\n",
        "\n",
        "#Load dataset\n",
        "cancer = datasets.load_breast_cancer()"
      ],
      "execution_count": null,
      "outputs": []
    },
    {
      "cell_type": "code",
      "metadata": {
        "colab": {
          "base_uri": "https://localhost:8080/"
        },
        "id": "oM9mZeDeXhkk",
        "outputId": "06e520b7-867c-434b-dfab-31dbbdab13d9"
      },
      "source": [
        "# print the names of the 13 features\n",
        "print(\"Features: \", cancer.feature_names)\n",
        "\n",
        "# print the label type of cancer('malignant' 'benign')\n",
        "print(\"Labels: \", cancer.target_names)"
      ],
      "execution_count": null,
      "outputs": [
        {
          "output_type": "stream",
          "text": [
            "Features:  ['mean radius' 'mean texture' 'mean perimeter' 'mean area'\n",
            " 'mean smoothness' 'mean compactness' 'mean concavity'\n",
            " 'mean concave points' 'mean symmetry' 'mean fractal dimension'\n",
            " 'radius error' 'texture error' 'perimeter error' 'area error'\n",
            " 'smoothness error' 'compactness error' 'concavity error'\n",
            " 'concave points error' 'symmetry error' 'fractal dimension error'\n",
            " 'worst radius' 'worst texture' 'worst perimeter' 'worst area'\n",
            " 'worst smoothness' 'worst compactness' 'worst concavity'\n",
            " 'worst concave points' 'worst symmetry' 'worst fractal dimension']\n",
            "Labels:  ['malignant' 'benign']\n"
          ],
          "name": "stdout"
        }
      ]
    },
    {
      "cell_type": "code",
      "metadata": {
        "colab": {
          "base_uri": "https://localhost:8080/"
        },
        "id": "6HVRxHKlXocL",
        "outputId": "241ee2ee-9913-4bf9-d73b-4ae12ccb1fbe"
      },
      "source": [
        "# print data(feature)shape\n",
        "cancer.data.shape"
      ],
      "execution_count": null,
      "outputs": [
        {
          "output_type": "execute_result",
          "data": {
            "text/plain": [
              "(569, 30)"
            ]
          },
          "metadata": {},
          "execution_count": 17
        }
      ]
    },
    {
      "cell_type": "code",
      "metadata": {
        "id": "2_8DZcZrXx2T"
      },
      "source": [
        "# Import train_test_split function\n",
        "from sklearn.model_selection import train_test_split\n",
        "\n",
        "# Split dataset into training set and test set\n",
        "X_train, X_test, y_train, y_test = train_test_split(cancer.data, cancer.target, test_size=0.3,random_state=109) # 70% training and 30% test\n",
        "\n"
      ],
      "execution_count": null,
      "outputs": []
    },
    {
      "cell_type": "code",
      "metadata": {
        "colab": {
          "base_uri": "https://localhost:8080/"
        },
        "id": "IqZKyg8b6UmZ",
        "outputId": "f3eac726-a77a-4ce9-8a64-38b21616000e"
      },
      "source": [
        "X_train.shape"
      ],
      "execution_count": null,
      "outputs": [
        {
          "output_type": "execute_result",
          "data": {
            "text/plain": [
              "(398, 30)"
            ]
          },
          "metadata": {},
          "execution_count": 19
        }
      ]
    },
    {
      "cell_type": "code",
      "metadata": {
        "id": "zP7SQ8HM6qWv"
      },
      "source": [
        ""
      ],
      "execution_count": null,
      "outputs": []
    },
    {
      "cell_type": "code",
      "metadata": {
        "id": "Xz-YiIzcYEYF"
      },
      "source": [
        "from sklearn.preprocessing import StandardScaler\n",
        "sc = StandardScaler()\n",
        "X_train = sc.fit_transform(X_train)\n",
        "X_test = sc.transform(X_test)"
      ],
      "execution_count": null,
      "outputs": []
    },
    {
      "cell_type": "code",
      "metadata": {
        "id": "wSFyfyyEe2aV"
      },
      "source": [
        ""
      ],
      "execution_count": null,
      "outputs": []
    },
    {
      "cell_type": "code",
      "metadata": {
        "id": "Mjg_Ux37k9G-"
      },
      "source": [
        ""
      ],
      "execution_count": null,
      "outputs": []
    },
    {
      "cell_type": "code",
      "metadata": {
        "colab": {
          "base_uri": "https://localhost:8080/"
        },
        "id": "Qb-fWzrXlGmN",
        "outputId": "3507019d-d871-4678-b761-db79e8464e45"
      },
      "source": [
        "X_train.shape,  X_test.shape"
      ],
      "execution_count": null,
      "outputs": [
        {
          "output_type": "execute_result",
          "data": {
            "text/plain": [
              "((398, 30), (171, 30))"
            ]
          },
          "metadata": {},
          "execution_count": 13
        }
      ]
    },
    {
      "cell_type": "code",
      "metadata": {
        "id": "Xz8pEepzkeao"
      },
      "source": [
        ""
      ],
      "execution_count": null,
      "outputs": []
    },
    {
      "cell_type": "code",
      "metadata": {
        "id": "UBEC9Ok1oEte"
      },
      "source": [
        ""
      ],
      "execution_count": null,
      "outputs": []
    },
    {
      "cell_type": "code",
      "metadata": {
        "colab": {
          "base_uri": "https://localhost:8080/"
        },
        "id": "aZCl7I2foNtL",
        "outputId": "0c1cd7c3-c64e-4ccb-daab-cb0fbb1c8e9d"
      },
      "source": [
        "#svm with default hyperparameters\n",
        "clf = SVC( C=1.0, kernel='rbf', degree=3, gamma='scale', coef0=0.0)\n",
        "clf.fit(X_train,y_train)\n",
        "scores = cross_val_score(clf, X_train,y_train, cv=5,scoring='accuracy')\n",
        "print(\"Accuracy:\"+ str(scores.mean()))\n",
        "\n",
        "\n"
      ],
      "execution_count": null,
      "outputs": [
        {
          "output_type": "stream",
          "text": [
            "Accuracy:0.9647784810126583\n"
          ],
          "name": "stdout"
        }
      ]
    },
    {
      "cell_type": "code",
      "metadata": {
        "colab": {
          "base_uri": "https://localhost:8080/"
        },
        "id": "IGLSm6yGQBv3",
        "outputId": "c54b4bab-f3f2-4239-997d-866a5d72e2ed"
      },
      "source": [
        "#Random Forest\n",
        "clf = RandomForestClassifier()\n",
        "clf.fit(X_train,y_train)\n",
        "scores = cross_val_score(clf, X_train,y_train, cv=3,scoring='accuracy')\n",
        "print(\"Accuracy:\"+ str(scores.mean()))"
      ],
      "execution_count": null,
      "outputs": [
        {
          "output_type": "stream",
          "text": [
            "Accuracy:0.9522670312143996\n"
          ],
          "name": "stdout"
        }
      ]
    },
    {
      "cell_type": "code",
      "metadata": {
        "colab": {
          "base_uri": "https://localhost:8080/"
        },
        "id": "j3smQ8aXoeR9",
        "outputId": "18ccffdd-7a00-4de2-a00d-eb6382d66bed"
      },
      "source": [
        "clf = SVC( C=1.0, kernel='sigmoid', degree=3, gamma='scale', coef0=0.0)\n",
        "clf.fit(X_train,y_train)\n",
        "scores = cross_val_score(clf, X_train,y_train, cv=5,scoring='accuracy')\n",
        "print(\"Accuracy:\"+ str(scores.mean()))"
      ],
      "execution_count": null,
      "outputs": [
        {
          "output_type": "stream",
          "text": [
            "Accuracy:0.9447468354430381\n"
          ],
          "name": "stdout"
        }
      ]
    },
    {
      "cell_type": "code",
      "metadata": {
        "colab": {
          "base_uri": "https://localhost:8080/"
        },
        "id": "Z8S3IquKxGRq",
        "outputId": "f2970e68-cbd1-4f0e-bfd4-64467d52fb7c"
      },
      "source": [
        "clf = SVC( C=1.0, kernel='poly', degree=3, gamma='scale', coef0=0.0)\n",
        "clf.fit(X_train,y_train)\n",
        "scores = cross_val_score(clf, X_train,y_train, cv=5,scoring='accuracy')\n",
        "print(\"Accuracy:\"+ str(scores.mean()))"
      ],
      "execution_count": null,
      "outputs": [
        {
          "output_type": "stream",
          "text": [
            "Accuracy:0.8970253164556962\n"
          ],
          "name": "stdout"
        }
      ]
    },
    {
      "cell_type": "code",
      "metadata": {
        "colab": {
          "base_uri": "https://localhost:8080/"
        },
        "id": "0jsLeWuUxJ-_",
        "outputId": "caa28124-1366-45d1-836a-4813d4ba65c1"
      },
      "source": [
        "# example of grid searching key hyperparametres for SVC\n",
        "# define model and parameters\n",
        "model = SVC()\n",
        "kernel = ['poly', 'linear', 'sigmoid']\n",
        "C = [50, 10, 1.0, 0.1, 0.01]\n",
        "gamma = ['scale']\n",
        "# define grid search\n",
        "grid = dict(kernel=kernel,C=C,gamma=gamma)\n",
        "cv = RepeatedStratifiedKFold(n_splits=10, n_repeats=3, random_state=1)\n",
        "grid_search = GridSearchCV(estimator=model, param_grid=grid, n_jobs=-1, cv=cv, scoring='accuracy',error_score=0)\n",
        "grid_result = grid_search.fit(X_train,y_train)\n",
        "# summarize results\n",
        "print(\"Best: %f using %s\" % (grid_result.best_score_, grid_result.best_params_))\n",
        "# means = grid_result.cv_results_['mean_test_score']\n",
        "# stds = grid_result.cv_results_['std_test_score']\n",
        "# params = grid_result.cv_results_['params']\n",
        "# for mean, stdev, param in zip(means, stds, params):\n",
        "#     print(\"%f (%f) with: %r\" % (mean, stdev, param))"
      ],
      "execution_count": null,
      "outputs": [
        {
          "output_type": "stream",
          "text": [
            "Best: 0.970577 using {'C': 0.1, 'gamma': 'scale', 'kernel': 'linear'}\n"
          ],
          "name": "stdout"
        }
      ]
    },
    {
      "cell_type": "code",
      "metadata": {
        "id": "6SD74Xw-xdpw"
      },
      "source": [
        ""
      ],
      "execution_count": null,
      "outputs": []
    },
    {
      "cell_type": "code",
      "metadata": {
        "colab": {
          "base_uri": "https://localhost:8080/"
        },
        "id": "UiFf4Z-W8s9q",
        "outputId": "fbcbb89e-abd3-4e09-8451-98f0b82125ed"
      },
      "source": [
        "\n",
        "from sklearn.model_selection import GridSearchCV\n",
        "from sklearn import svm\n",
        "from sklearn.svm import SVR\n",
        "\n",
        "svc = svm.SVC()\n",
        "\n",
        "grid = GridSearchCV(\n",
        "\n",
        "estimator=SVC(),\n",
        "\n",
        "param_grid={\n",
        "\n",
        "'C': [1.1, 5.4, 170, 1001],\n",
        "\n",
        "'kernel':['rbf','poly','linear','sigmoid'],\n",
        "\n",
        "'gamma': [0.7001, 0.008, 0.001, 3.1, 1, 1.3, 5]\n",
        "        },\n",
        "        cv=5, scoring='accuracy', verbose=0, n_jobs=-1)\n",
        "\n",
        "\n",
        "grid.fit(X_train,y_train)\n",
        "\n",
        "\n",
        "#print the best parameters from all possible combinations\n",
        "print(\"best parameters are: \", grid.best_params_)\n",
        "print(\"Accuracy:\"+ str(grid.best_score_))\n"
      ],
      "execution_count": null,
      "outputs": [
        {
          "output_type": "stream",
          "text": [
            "best parameters are:  {'C': 170, 'gamma': 0.008, 'kernel': 'rbf'}\n",
            "Accuracy:0.9648101265822785\n"
          ],
          "name": "stdout"
        }
      ]
    },
    {
      "cell_type": "markdown",
      "metadata": {
        "id": "Tssv1u9Z5YKs"
      },
      "source": [
        "#GS with FR"
      ]
    },
    {
      "cell_type": "code",
      "metadata": {
        "colab": {
          "base_uri": "https://localhost:8080/"
        },
        "id": "9XcMc2WjARlU",
        "outputId": "5e24e566-0710-4f8d-b767-6816db2d361d"
      },
      "source": [
        "rfc = RandomForestClassifier()\n",
        "\n",
        "forest_params = [{'max_depth': list(range(10, 15)), 'max_features': ['auto', 'sqrt']}]\n",
        "\n",
        "clf = GridSearchCV(rfc, forest_params, cv = 10, scoring='accuracy')\n",
        "\n",
        "clf.fit(X_train, y_train)\n",
        "\n",
        "print(clf.best_params_)\n",
        "\n",
        "print(clf.best_score_)"
      ],
      "execution_count": null,
      "outputs": [
        {
          "output_type": "stream",
          "text": [
            "{'max_depth': 11, 'max_features': 'sqrt'}\n",
            "0.9548076923076924\n"
          ],
          "name": "stdout"
        }
      ]
    },
    {
      "cell_type": "code",
      "metadata": {
        "id": "dG_gDGqq6mBj"
      },
      "source": [
        ""
      ],
      "execution_count": null,
      "outputs": []
    },
    {
      "cell_type": "code",
      "metadata": {
        "colab": {
          "base_uri": "https://localhost:8080/"
        },
        "id": "b80aIPhvIvsB",
        "outputId": "d7b1115d-f80b-4547-a003-bb64e474ff18"
      },
      "source": [
        "import numpy as np\n",
        "from sklearn.datasets import load_iris\n",
        "from sklearn.ensemble import RandomForestClassifier\n",
        "iris = load_iris()\n",
        "rf = RandomForestClassifier(random_state = 35)\n",
        "\n",
        "from sklearn.model_selection import RandomizedSearchCV\n",
        "\n",
        "\n",
        "\n",
        "n_estimators = [int(x) for x in np.linspace(start = 1, stop = 20, num = 20)]\n",
        "max_features = ['auto', 'sqrt']\n",
        "max_depth = [int(x) for x in np.linspace(10, 120, num = 12)]\n",
        "min_samples_split = [2, 6, 10]\n",
        "min_samples_leaf = [1, 3, 4]\n",
        "bootstrap = [True, False]\n",
        "\n",
        "\n",
        "random_grid = {'n_estimators': n_estimators,\n",
        "\n",
        "'max_features': max_features,\n",
        "\n",
        "'max_depth': max_depth,\n",
        "\n",
        "'min_samples_split': min_samples_split,\n",
        "\n",
        "'min_samples_leaf': min_samples_leaf,\n",
        "\n",
        "'bootstrap': bootstrap}\n",
        "\n",
        "rf_random = RandomizedSearchCV(estimator = rf,\n",
        "\n",
        "param_distributions = random_grid,\n",
        "               n_iter = 100, cv = 5, verbose=2, random_state=35, n_jobs = -1,scoring='accuracy')\n",
        "rf_random.fit(X_train,y_train)\n",
        "\n",
        "\n",
        "# print the best parameters\n",
        "print ('Best Parameters: ', rf_random.best_params_,)\n",
        "print ('Best score: ', rf_random.best_score_,)\n"
      ],
      "execution_count": null,
      "outputs": [
        {
          "output_type": "stream",
          "text": [
            "Fitting 5 folds for each of 100 candidates, totalling 500 fits\n"
          ],
          "name": "stdout"
        },
        {
          "output_type": "stream",
          "text": [
            "[Parallel(n_jobs=-1)]: Using backend LokyBackend with 2 concurrent workers.\n",
            "[Parallel(n_jobs=-1)]: Done 128 tasks      | elapsed:    2.4s\n"
          ],
          "name": "stderr"
        },
        {
          "output_type": "stream",
          "text": [
            "Best Parameters:  {'n_estimators': 9, 'min_samples_split': 2, 'min_samples_leaf': 1, 'max_features': 'sqrt', 'max_depth': 40, 'bootstrap': False}\n",
            "Best score:  0.9572468354430381\n"
          ],
          "name": "stdout"
        },
        {
          "output_type": "stream",
          "text": [
            "[Parallel(n_jobs=-1)]: Done 500 out of 500 | elapsed:    8.6s finished\n"
          ],
          "name": "stderr"
        }
      ]
    },
    {
      "cell_type": "code",
      "metadata": {
        "id": "HkJRNbO4J8jS"
      },
      "source": [
        ""
      ],
      "execution_count": null,
      "outputs": []
    },
    {
      "cell_type": "markdown",
      "metadata": {
        "id": "MHiRz6O8YqIL"
      },
      "source": [
        "#GRID SEARCH IN SVM FROM SCRATCH"
      ]
    },
    {
      "cell_type": "code",
      "metadata": {
        "colab": {
          "base_uri": "https://localhost:8080/"
        },
        "id": "ly25EB9kHTWc",
        "outputId": "9adbcc9c-22ce-4903-a98a-5f3dbfe5f622"
      },
      "source": [
        "#svm with default hyperparameters\n",
        "clf = SVC( C=1.0, kernel='rbf', degree=3, gamma='scale', coef0=0.0)\n",
        "clf.fit(X_train,y_train)\n",
        "scores = cross_val_score(clf, X_train,y_train, cv=5,scoring='accuracy')\n",
        "print(\"Accuracy:\"+ str(scores.mean()))\n"
      ],
      "execution_count": null,
      "outputs": [
        {
          "output_type": "stream",
          "text": [
            "Accuracy:0.9647784810126583\n"
          ],
          "name": "stdout"
        }
      ]
    },
    {
      "cell_type": "code",
      "metadata": {
        "id": "i79xcEeTZEF9"
      },
      "source": [
        ""
      ],
      "execution_count": null,
      "outputs": []
    },
    {
      "cell_type": "code",
      "metadata": {
        "id": "OACzbApDZEUl"
      },
      "source": [
        ""
      ],
      "execution_count": null,
      "outputs": []
    },
    {
      "cell_type": "code",
      "metadata": {
        "colab": {
          "base_uri": "https://localhost:8080/"
        },
        "id": "evfbcOjVY1Cd",
        "outputId": "bdf1b28a-0ae8-4400-aab2-a5fc9152d672"
      },
      "source": [
        "kernel = ['rbf','poly','linear','sigmoid']\n",
        "C=[1.0,1.1,5.4,170,1001]\n",
        "gamma = [0.7001, 0.008, 0.001, 3.1, 1, 1.3, 5]\n",
        "high_accuracy = 0.0\n",
        "hypers = []\n",
        "for i in C:\n",
        "  for j in gamma:\n",
        "    for k in kernel:\n",
        "      hypers.append((i,j,k))\n",
        "\n",
        "    \n",
        "print(hypers)"
      ],
      "execution_count": null,
      "outputs": [
        {
          "output_type": "stream",
          "text": [
            "[(1.0, 0.7001, 'rbf'), (1.0, 0.7001, 'poly'), (1.0, 0.7001, 'linear'), (1.0, 0.7001, 'sigmoid'), (1.0, 0.008, 'rbf'), (1.0, 0.008, 'poly'), (1.0, 0.008, 'linear'), (1.0, 0.008, 'sigmoid'), (1.0, 0.001, 'rbf'), (1.0, 0.001, 'poly'), (1.0, 0.001, 'linear'), (1.0, 0.001, 'sigmoid'), (1.0, 3.1, 'rbf'), (1.0, 3.1, 'poly'), (1.0, 3.1, 'linear'), (1.0, 3.1, 'sigmoid'), (1.0, 1, 'rbf'), (1.0, 1, 'poly'), (1.0, 1, 'linear'), (1.0, 1, 'sigmoid'), (1.0, 1.3, 'rbf'), (1.0, 1.3, 'poly'), (1.0, 1.3, 'linear'), (1.0, 1.3, 'sigmoid'), (1.0, 5, 'rbf'), (1.0, 5, 'poly'), (1.0, 5, 'linear'), (1.0, 5, 'sigmoid'), (1.1, 0.7001, 'rbf'), (1.1, 0.7001, 'poly'), (1.1, 0.7001, 'linear'), (1.1, 0.7001, 'sigmoid'), (1.1, 0.008, 'rbf'), (1.1, 0.008, 'poly'), (1.1, 0.008, 'linear'), (1.1, 0.008, 'sigmoid'), (1.1, 0.001, 'rbf'), (1.1, 0.001, 'poly'), (1.1, 0.001, 'linear'), (1.1, 0.001, 'sigmoid'), (1.1, 3.1, 'rbf'), (1.1, 3.1, 'poly'), (1.1, 3.1, 'linear'), (1.1, 3.1, 'sigmoid'), (1.1, 1, 'rbf'), (1.1, 1, 'poly'), (1.1, 1, 'linear'), (1.1, 1, 'sigmoid'), (1.1, 1.3, 'rbf'), (1.1, 1.3, 'poly'), (1.1, 1.3, 'linear'), (1.1, 1.3, 'sigmoid'), (1.1, 5, 'rbf'), (1.1, 5, 'poly'), (1.1, 5, 'linear'), (1.1, 5, 'sigmoid'), (5.4, 0.7001, 'rbf'), (5.4, 0.7001, 'poly'), (5.4, 0.7001, 'linear'), (5.4, 0.7001, 'sigmoid'), (5.4, 0.008, 'rbf'), (5.4, 0.008, 'poly'), (5.4, 0.008, 'linear'), (5.4, 0.008, 'sigmoid'), (5.4, 0.001, 'rbf'), (5.4, 0.001, 'poly'), (5.4, 0.001, 'linear'), (5.4, 0.001, 'sigmoid'), (5.4, 3.1, 'rbf'), (5.4, 3.1, 'poly'), (5.4, 3.1, 'linear'), (5.4, 3.1, 'sigmoid'), (5.4, 1, 'rbf'), (5.4, 1, 'poly'), (5.4, 1, 'linear'), (5.4, 1, 'sigmoid'), (5.4, 1.3, 'rbf'), (5.4, 1.3, 'poly'), (5.4, 1.3, 'linear'), (5.4, 1.3, 'sigmoid'), (5.4, 5, 'rbf'), (5.4, 5, 'poly'), (5.4, 5, 'linear'), (5.4, 5, 'sigmoid'), (170, 0.7001, 'rbf'), (170, 0.7001, 'poly'), (170, 0.7001, 'linear'), (170, 0.7001, 'sigmoid'), (170, 0.008, 'rbf'), (170, 0.008, 'poly'), (170, 0.008, 'linear'), (170, 0.008, 'sigmoid'), (170, 0.001, 'rbf'), (170, 0.001, 'poly'), (170, 0.001, 'linear'), (170, 0.001, 'sigmoid'), (170, 3.1, 'rbf'), (170, 3.1, 'poly'), (170, 3.1, 'linear'), (170, 3.1, 'sigmoid'), (170, 1, 'rbf'), (170, 1, 'poly'), (170, 1, 'linear'), (170, 1, 'sigmoid'), (170, 1.3, 'rbf'), (170, 1.3, 'poly'), (170, 1.3, 'linear'), (170, 1.3, 'sigmoid'), (170, 5, 'rbf'), (170, 5, 'poly'), (170, 5, 'linear'), (170, 5, 'sigmoid'), (1001, 0.7001, 'rbf'), (1001, 0.7001, 'poly'), (1001, 0.7001, 'linear'), (1001, 0.7001, 'sigmoid'), (1001, 0.008, 'rbf'), (1001, 0.008, 'poly'), (1001, 0.008, 'linear'), (1001, 0.008, 'sigmoid'), (1001, 0.001, 'rbf'), (1001, 0.001, 'poly'), (1001, 0.001, 'linear'), (1001, 0.001, 'sigmoid'), (1001, 3.1, 'rbf'), (1001, 3.1, 'poly'), (1001, 3.1, 'linear'), (1001, 3.1, 'sigmoid'), (1001, 1, 'rbf'), (1001, 1, 'poly'), (1001, 1, 'linear'), (1001, 1, 'sigmoid'), (1001, 1.3, 'rbf'), (1001, 1.3, 'poly'), (1001, 1.3, 'linear'), (1001, 1.3, 'sigmoid'), (1001, 5, 'rbf'), (1001, 5, 'poly'), (1001, 5, 'linear'), (1001, 5, 'sigmoid')]\n"
          ],
          "name": "stdout"
        }
      ]
    },
    {
      "cell_type": "code",
      "metadata": {
        "id": "auYem3snbFu2"
      },
      "source": [
        ""
      ],
      "execution_count": null,
      "outputs": []
    },
    {
      "cell_type": "code",
      "metadata": {
        "id": "l6tCIPwhWeCM"
      },
      "source": [
        "\n",
        "params = {\n",
        "  'params': '',\n",
        "  'score': 0.\n",
        "}\n",
        "for k in range(len(hypers)):\n",
        "  model = SVC(C = hypers[k][0],gamma = hypers[k][1],kernel=hypers[k][2])\n",
        "  model.fit( X_train, y_train )\n",
        "  Y_pred = model.predict( X_test)\n",
        "  classified_correct = 0\n",
        "  total = 0\n",
        "  for total in range(np.size(Y_pred)):\n",
        "    if y_test[total] == Y_pred[total]:\n",
        "      classified_correct = classified_correct+1\n",
        "  accuracy =(classified_correct/total)*100\n",
        "\n",
        "  if params['score'] < accuracy:\n",
        "    params['score'] = accuracy\n",
        "    params['params'] = hypers[k]\n",
        "\n",
        "\n"
      ],
      "execution_count": null,
      "outputs": []
    },
    {
      "cell_type": "code",
      "metadata": {
        "colab": {
          "base_uri": "https://localhost:8080/"
        },
        "id": "xPqP_orkqHQ3",
        "outputId": "513519fb-ac92-4372-a887-55f9346148be"
      },
      "source": [
        "params"
      ],
      "execution_count": null,
      "outputs": [
        {
          "output_type": "execute_result",
          "data": {
            "text/plain": [
              "{'params': (1.0, 0.7001, 'linear'), 'score': 99.41176470588235}"
            ]
          },
          "metadata": {},
          "execution_count": 30
        }
      ]
    },
    {
      "cell_type": "markdown",
      "metadata": {
        "id": "as_tAF3KJsM_"
      },
      "source": [
        "#GRID SEACRH WITH LOGISTIC REGRESSION"
      ]
    },
    {
      "cell_type": "code",
      "metadata": {
        "colab": {
          "base_uri": "https://localhost:8080/"
        },
        "id": "vfhSSWBcWeI_",
        "outputId": "94a87770-b487-4cc1-ae29-572e0def1985"
      },
      "source": [
        "#baseline model\n",
        "\n",
        "clf = LogisticRegression()\n",
        "clf.fit(X_train, y_train)\n",
        "scores = cross_val_score(clf, X_train, y_train, cv=3,scoring='accuracy')\n",
        "print(\"Accuracy:\"+ str(scores.mean()))"
      ],
      "execution_count": null,
      "outputs": [
        {
          "output_type": "stream",
          "text": [
            "Accuracy:0.9698108908635225\n"
          ],
          "name": "stdout"
        }
      ]
    },
    {
      "cell_type": "code",
      "metadata": {
        "id": "EwzGTSGGC3XR"
      },
      "source": [
        ""
      ],
      "execution_count": null,
      "outputs": []
    },
    {
      "cell_type": "code",
      "metadata": {
        "colab": {
          "base_uri": "https://localhost:8080/"
        },
        "id": "hJIvU2m6WeK2",
        "outputId": "5a8eb15a-2837-48c9-80bc-c600a9b81bd0"
      },
      "source": [
        "#tuning hyperparameters\n",
        "\n",
        "clf = LogisticRegression()\n",
        "params = {'C':[0.001,.009,0.01,.09,1,5,10,25],'penalty': ['l1', 'l2'],'solver' : ['newton-cg', 'lbfgs', 'liblinear', 'sag', 'saga']}\n",
        "grid= GridSearchCV(clf, params,cv=3,scoring = 'accuracy')\n",
        "grid.fit(X_train, y_train)\n",
        "print(grid.best_params_)\n",
        "print(\"Accuracy:\"+ str(grid.best_score_))"
      ],
      "execution_count": null,
      "outputs": [
        {
          "output_type": "stream",
          "text": [
            "{'C': 0.09, 'penalty': 'l2', 'solver': 'liblinear'}\n",
            "Accuracy:0.9748424090529353\n"
          ],
          "name": "stdout"
        }
      ]
    },
    {
      "cell_type": "code",
      "metadata": {
        "id": "XOYl9DsAWeNT"
      },
      "source": [
        ""
      ],
      "execution_count": null,
      "outputs": []
    },
    {
      "cell_type": "code",
      "metadata": {
        "id": "mtA0rl8ZWeRi"
      },
      "source": [
        ""
      ],
      "execution_count": null,
      "outputs": []
    },
    {
      "cell_type": "code",
      "metadata": {
        "id": "omyseZPnWeTt"
      },
      "source": [
        ""
      ],
      "execution_count": null,
      "outputs": []
    }
  ]
}